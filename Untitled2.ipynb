{
  "nbformat": 4,
  "nbformat_minor": 0,
  "metadata": {
    "colab": {
      "name": "Untitled2.ipynb",
      "provenance": []
    },
    "kernelspec": {
      "name": "python3",
      "display_name": "Python 3"
    }
  },
  "cells": [
    {
      "cell_type": "code",
      "metadata": {
        "colab": {
          "base_uri": "https://localhost:8080/"
        },
        "id": "RdLLa5KYsBQS",
        "outputId": "e461100c-ae30-48dd-88c9-6809dd34dcaa"
      },
      "source": [
        "! wget https://raw.githubusercontent.com/alok676875/RDP/main/RDP.sh &> /dev/null\r\n",
        "! ls\r\n",
        "! chmod +x RDP.sh \r\n",
        "! ./RDP.sh\r\n"
      ],
      "execution_count": 7,
      "outputs": [
        {
          "output_type": "stream",
          "text": [
            "RDP.sh\tRDP.sh.1  RDP.sh.2  RDP.sh.3  RDP.sh.4\tRDP.sh.5  sample_data\n",
            "Installing RDP Be Patience... \n",
            "Setup Complete \n",
            "Check https://remotedesktop.google.com/headless  Copy Command Of Debian Linux And Paste Down\n",
            "Paste Here: DISPLAY= /opt/google/chrome-remote-desktop/start-host --code=\"4/0AY0e-g4kREKn7_miQgRJ68EyuKvRBgbspIC5okB06uQHKsLKBPHVCiksHQpddC9O71Vlcw\" --redirect-url=\"https://remotedesktop.google.com/_/oauthredirect\" --name=$(hostname)\n",
            "Enter a PIN of at least six digits: \n",
            "Enter the same PIN again: \n",
            "[0108/111945.392154:ERROR:cert_verify_proc_builtin.cc(559)] No net_fetcher for performing AIA chasing.\n",
            "[0108/111945.532798:WARNING:host_config.cc(54)] Failed to read /home/ALOK/.config/chrome-remote-desktop/host#881b87b4bd84341c676f49bcdcaeb8ee.json\n",
            "[0108/111945.650261:ERROR:cert_verify_proc_builtin.cc(559)] No net_fetcher for performing AIA chasing.\n",
            "[0108/111946.511510:INFO:daemon_controller_delegate_linux.cc(99)] 2021-01-08 11:19:46,500:INFO:User 'ALOK' is already a member of 'chrome-remote-desktop'.\n",
            "\n",
            "[0108/111948.732018:INFO:daemon_controller_delegate_linux.cc(99)] [0108/111946.630059:INFO:remoting_user_session.cc(754)] Daemon process started in the background, logging to '/tmp/chrome_remote_desktop_20210108_111946_QqjGQi'\n",
            "Using host_id: 50434c12-7b08-49b1-b038-bf33e7685dfa\n",
            "Launching X server and X session.\n",
            "Starting Xvfb on display :20\n",
            "X server is active.\n",
            "Launching X session: ['/bin/sh', '/etc/chrome-remote-desktop-session']\n",
            "Launching host process\n",
            "['/opt/google/chrome-remote-desktop/chrome-remote-desktop-host', '--host-config=-', '--audio-pipe-name=/home/ALOK/.config/chrome-remote-desktop/pulseaudio#881b87b4bd/fifo_output', '--server-supports-exact-resize', '--ssh-auth-sockname=/tmp/chromoting.ALOK.ssh_auth_sock', '--signal-parent']\n",
            "Host ready to receive connections.\n",
            "Log file: /tmp/chrome_remote_desktop_20210108_111946_QqjGQi\n",
            "\n",
            "Check https://remotedesktop.google.com/access/ \n",
            "\n",
            "\n",
            "\n",
            "Upgrade Completed "
          ],
          "name": "stdout"
        }
      ]
    }
  ]
}